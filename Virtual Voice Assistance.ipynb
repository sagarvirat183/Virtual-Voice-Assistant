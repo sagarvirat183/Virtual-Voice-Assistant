{
 "cells": [
  {
   "cell_type": "code",
   "execution_count": 44,
   "metadata": {
    "collapsed": true
   },
   "outputs": [
    {
     "name": "stdout",
     "output_type": "stream",
     "text": [
      "Requirement already satisfied: SpeechRecognition in c:\\users\\swathi-sagar\\anaconda3\\lib\\site-packages\n"
     ]
    },
    {
     "name": "stderr",
     "output_type": "stream",
     "text": [
      "You are using pip version 9.0.1, however version 20.2.3 is available.\n",
      "You should consider upgrading via the 'python -m pip install --upgrade pip' command.\n"
     ]
    }
   ],
   "source": [
    "# Installing packages \n",
    "!pip install SpeechRecognition"
   ]
  },
  {
   "cell_type": "code",
   "execution_count": 45,
   "metadata": {
    "collapsed": true
   },
   "outputs": [
    {
     "name": "stdout",
     "output_type": "stream",
     "text": [
      "Requirement already satisfied: gTTS in c:\\users\\swathi-sagar\\anaconda3\\lib\\site-packages\n",
      "Requirement already satisfied: six in c:\\users\\swathi-sagar\\anaconda3\\lib\\site-packages (from gTTS)\n",
      "Requirement already satisfied: beautifulsoup4 in c:\\users\\swathi-sagar\\anaconda3\\lib\\site-packages (from gTTS)\n",
      "Requirement already satisfied: requests in c:\\users\\swathi-sagar\\anaconda3\\lib\\site-packages (from gTTS)\n",
      "Requirement already satisfied: gtts-token>=1.1.3 in c:\\users\\swathi-sagar\\anaconda3\\lib\\site-packages (from gTTS)\n",
      "Requirement already satisfied: click in c:\\users\\swathi-sagar\\anaconda3\\lib\\site-packages (from gTTS)\n",
      "Requirement already satisfied: chardet<3.1.0,>=3.0.2 in c:\\users\\swathi-sagar\\anaconda3\\lib\\site-packages (from requests->gTTS)\n",
      "Requirement already satisfied: idna<2.7,>=2.5 in c:\\users\\swathi-sagar\\anaconda3\\lib\\site-packages (from requests->gTTS)\n",
      "Requirement already satisfied: urllib3<1.23,>=1.21.1 in c:\\users\\swathi-sagar\\anaconda3\\lib\\site-packages (from requests->gTTS)\n",
      "Requirement already satisfied: certifi>=2017.4.17 in c:\\users\\swathi-sagar\\anaconda3\\lib\\site-packages (from requests->gTTS)\n"
     ]
    },
    {
     "name": "stderr",
     "output_type": "stream",
     "text": [
      "You are using pip version 9.0.1, however version 20.2.3 is available.\n",
      "You should consider upgrading via the 'python -m pip install --upgrade pip' command.\n"
     ]
    }
   ],
   "source": [
    "!pip install gTTS"
   ]
  },
  {
   "cell_type": "code",
   "execution_count": 46,
   "metadata": {
    "collapsed": true
   },
   "outputs": [
    {
     "name": "stdout",
     "output_type": "stream",
     "text": [
      "Requirement already satisfied: playsound in c:\\users\\swathi-sagar\\anaconda3\\lib\\site-packages\n"
     ]
    },
    {
     "name": "stderr",
     "output_type": "stream",
     "text": [
      "You are using pip version 9.0.1, however version 20.2.3 is available.\n",
      "You should consider upgrading via the 'python -m pip install --upgrade pip' command.\n"
     ]
    }
   ],
   "source": [
    "!pip install playsound"
   ]
  },
  {
   "cell_type": "code",
   "execution_count": 47,
   "metadata": {
    "collapsed": true
   },
   "outputs": [
    {
     "name": "stdout",
     "output_type": "stream",
     "text": [
      "Requirement already satisfied: beautifulsoup4 in c:\\users\\swathi-sagar\\anaconda3\\lib\\site-packages\n"
     ]
    },
    {
     "name": "stderr",
     "output_type": "stream",
     "text": [
      "You are using pip version 9.0.1, however version 20.2.3 is available.\n",
      "You should consider upgrading via the 'python -m pip install --upgrade pip' command.\n"
     ]
    }
   ],
   "source": [
    "!pip install beautifulsoup4"
   ]
  },
  {
   "cell_type": "code",
   "execution_count": 48,
   "metadata": {
    "collapsed": true
   },
   "outputs": [
    {
     "name": "stdout",
     "output_type": "stream",
     "text": [
      "Requirement already satisfied: PyAudio==0.2.11 from file:///C:/Users/swathi-sagar/PyAudio-0.2.11-cp36-cp36m-win32.whl in c:\\users\\swathi-sagar\\anaconda3\\lib\\site-packages\n"
     ]
    },
    {
     "name": "stderr",
     "output_type": "stream",
     "text": [
      "You are using pip version 9.0.1, however version 20.2.3 is available.\n",
      "You should consider upgrading via the 'python -m pip install --upgrade pip' command.\n"
     ]
    }
   ],
   "source": [
    "!pip install PyAudio-0.2.11-cp36-cp36m-win32.whl"
   ]
  },
  {
   "cell_type": "code",
   "execution_count": 49,
   "metadata": {
    "collapsed": true
   },
   "outputs": [],
   "source": [
    "import speech_recognition as sr\n",
    "from gtts import gTTS\n",
    "import playsound\n",
    "import time\n",
    "import os\n",
    "from time import ctime\n",
    "import re\n",
    "import webbrowser\n",
    "import bs4        #for passing data use beautifulsoup4\n",
    "import requests#for fetching the data\n",
    "import smtplib\n"
   ]
  },
  {
   "cell_type": "code",
   "execution_count": 51,
   "metadata": {},
   "outputs": [
    {
     "name": "stdout",
     "output_type": "stream",
     "text": [
      "Hello sagar,what can i do for you?\n"
     ]
    },
    {
     "ename": "PermissionError",
     "evalue": "[Errno 13] Permission denied: 'speech.mp3'",
     "output_type": "error",
     "traceback": [
      "\u001b[1;31m---------------------------------------------------------------------------\u001b[0m",
      "\u001b[1;31mPermissionError\u001b[0m                           Traceback (most recent call last)",
      "\u001b[1;32m<ipython-input-51-dd7b49f00387>\u001b[0m in \u001b[0;36m<module>\u001b[1;34m()\u001b[0m\n\u001b[0;32m     94\u001b[0m \u001b[1;33m\u001b[0m\u001b[0m\n\u001b[0;32m     95\u001b[0m \u001b[1;33m\u001b[0m\u001b[0m\n\u001b[1;32m---> 96\u001b[1;33m \u001b[0mrespond\u001b[0m\u001b[1;33m(\u001b[0m\u001b[1;34m\"Hello sagar,what can i do for you?\"\u001b[0m\u001b[1;33m)\u001b[0m\u001b[1;33m\u001b[0m\u001b[0m\n\u001b[0m\u001b[0;32m     97\u001b[0m \u001b[0mlistening\u001b[0m \u001b[1;33m=\u001b[0m  \u001b[1;32mTrue\u001b[0m\u001b[1;33m\u001b[0m\u001b[0m\n\u001b[0;32m     98\u001b[0m \u001b[1;32mwhile\u001b[0m \u001b[0mlistening\u001b[0m \u001b[1;33m==\u001b[0m \u001b[1;32mTrue\u001b[0m\u001b[1;33m:\u001b[0m\u001b[1;33m\u001b[0m\u001b[0m\n",
      "\u001b[1;32m<ipython-input-51-dd7b49f00387>\u001b[0m in \u001b[0;36mrespond\u001b[1;34m(String)\u001b[0m\n\u001b[0;32m     18\u001b[0m     \u001b[0mprint\u001b[0m\u001b[1;33m(\u001b[0m\u001b[0mString\u001b[0m\u001b[1;33m)\u001b[0m\u001b[1;33m\u001b[0m\u001b[0m\n\u001b[0;32m     19\u001b[0m     \u001b[0mtts\u001b[0m \u001b[1;33m=\u001b[0m \u001b[0mgTTS\u001b[0m\u001b[1;33m(\u001b[0m\u001b[0mtext\u001b[0m\u001b[1;33m=\u001b[0m\u001b[0mString\u001b[0m\u001b[1;33m,\u001b[0m\u001b[0mlang\u001b[0m\u001b[1;33m=\u001b[0m\u001b[1;34m\"en\"\u001b[0m\u001b[1;33m)\u001b[0m\u001b[1;33m\u001b[0m\u001b[0m\n\u001b[1;32m---> 20\u001b[1;33m     \u001b[0mtts\u001b[0m\u001b[1;33m.\u001b[0m\u001b[0msave\u001b[0m\u001b[1;33m(\u001b[0m\u001b[1;34m\"speech.mp3\"\u001b[0m\u001b[1;33m)\u001b[0m\u001b[1;33m\u001b[0m\u001b[0m\n\u001b[0m\u001b[0;32m     21\u001b[0m     \u001b[0mplaysound\u001b[0m\u001b[1;33m.\u001b[0m\u001b[0mplaysound\u001b[0m\u001b[1;33m(\u001b[0m\u001b[1;34m\"speech.mp3\"\u001b[0m\u001b[1;33m)\u001b[0m\u001b[1;33m\u001b[0m\u001b[0m\n\u001b[0;32m     22\u001b[0m     \u001b[0mos\u001b[0m\u001b[1;33m.\u001b[0m\u001b[0mremove\u001b[0m\u001b[1;33m(\u001b[0m\u001b[1;34m\"speech.mp3\"\u001b[0m\u001b[1;33m)\u001b[0m\u001b[1;33m\u001b[0m\u001b[0m\n",
      "\u001b[1;32m~\\Anaconda3\\lib\\site-packages\\gtts\\tts.py\u001b[0m in \u001b[0;36msave\u001b[1;34m(self, savefile)\u001b[0m\n\u001b[0;32m    292\u001b[0m \u001b[1;33m\u001b[0m\u001b[0m\n\u001b[0;32m    293\u001b[0m         \"\"\"\n\u001b[1;32m--> 294\u001b[1;33m         \u001b[1;32mwith\u001b[0m \u001b[0mopen\u001b[0m\u001b[1;33m(\u001b[0m\u001b[0mstr\u001b[0m\u001b[1;33m(\u001b[0m\u001b[0msavefile\u001b[0m\u001b[1;33m)\u001b[0m\u001b[1;33m,\u001b[0m \u001b[1;34m'wb'\u001b[0m\u001b[1;33m)\u001b[0m \u001b[1;32mas\u001b[0m \u001b[0mf\u001b[0m\u001b[1;33m:\u001b[0m\u001b[1;33m\u001b[0m\u001b[0m\n\u001b[0m\u001b[0;32m    295\u001b[0m             \u001b[0mself\u001b[0m\u001b[1;33m.\u001b[0m\u001b[0mwrite_to_fp\u001b[0m\u001b[1;33m(\u001b[0m\u001b[0mf\u001b[0m\u001b[1;33m)\u001b[0m\u001b[1;33m\u001b[0m\u001b[0m\n\u001b[0;32m    296\u001b[0m             \u001b[0mlog\u001b[0m\u001b[1;33m.\u001b[0m\u001b[0mdebug\u001b[0m\u001b[1;33m(\u001b[0m\u001b[1;34m\"Saved to %s\"\u001b[0m\u001b[1;33m,\u001b[0m \u001b[0msavefile\u001b[0m\u001b[1;33m)\u001b[0m\u001b[1;33m\u001b[0m\u001b[0m\n",
      "\u001b[1;31mPermissionError\u001b[0m: [Errno 13] Permission denied: 'speech.mp3'"
     ]
    }
   ],
   "source": [
    "def listen():\n",
    "    r = sr.Recognizer()\n",
    "    with sr.Microphone() as source:\n",
    "        print(\"I am listening..\")\n",
    "        audio = r.listen(source,phrase_time_limit = 5)\n",
    "        \n",
    "    data = \"\"\n",
    "    try:\n",
    "        data = r.recognize_google(audio,language='en_US')\n",
    "        print(\"You said :\"+data)\n",
    "    except sr.UnknownValueError:\n",
    "        print(\"I cannot hear you\")\n",
    "    except sr.RequestError as e:\n",
    "        print(\"Request Failed\")\n",
    "    return data \n",
    "\n",
    "def respond(String):\n",
    "    print(String)\n",
    "    tts = gTTS(text=String,lang=\"en\")\n",
    "    tts.save(\"speech.mp3\")\n",
    "    playsound.playsound(\"speech.mp3\")\n",
    "    os.remove(\"speech.mp3\")\n",
    "    \n",
    "    \n",
    "def voice_assistant(data):\n",
    "    if \"how are you\" in data:\n",
    "        listening = True\n",
    "        respond(\"I am doing good\")\n",
    "        \n",
    "        \n",
    "    if \"time\" in data:\n",
    "        listening = True\n",
    "        respond(ctime())\n",
    "        \n",
    "    if \"open google\" in data.casefold():\n",
    "        listening = True\n",
    "        reg_ex = re.search('open google(.*)',data)\n",
    "        uri = 'https://www.google.com/'\n",
    "        if reg_ex:\n",
    "            sub = reg_ex.group(1)\n",
    "            url = url + 'r/'\n",
    "            \n",
    "        webbrowser.open(url)\n",
    "        print('Done')\n",
    "        respond('Done')\n",
    "        \n",
    "        \n",
    "    if \"email\" in data:\n",
    "        listening = True\n",
    "        respond(\"Whom should i sedn email to?\")\n",
    "        edict = {'hello':'sagarneearj74@gmail.com','just':'sagarsiragate@gmail.com'}\n",
    "        toaddr = edict[to]\n",
    "        respond('What is the subject')\n",
    "        subject = listen()\n",
    "        respond(\"What should i tell the person\")\n",
    "        message=listen()\n",
    "        content = 'Subject:{}\\n\\n{}'.format(subject,message)\n",
    "        \n",
    "        #init gmail smtp\n",
    "        mail = smtplib.SMTP('smtp.gmail.com',587)\n",
    "        \n",
    "        #identify the server\n",
    "        mail.ehlo()\n",
    "        mail.starttls()\n",
    "        \n",
    "        #login\n",
    "        mail.login('qwetyforwork@gmail.com','jsgyeplshpleyjlh')\n",
    "        mail.sendmail('qwetyforwork@gmail.com',toaddr,content)\n",
    "        \n",
    "        mail.close()\n",
    "        \n",
    "        \n",
    "        \n",
    "        respond('Email sent')\n",
    "        \n",
    "    if \"wiki\" in data.casefold():\n",
    "        listening = True\n",
    "        respond(\"What should i search\")\n",
    "        query = listen()\n",
    "        responce = requests.get(\"https://en.wikipedia.org/wiki/\"+query)\n",
    "        if response is not None:\n",
    "            html = bs4.BeautifulSoup(response.text,'html.parser')\n",
    "            paragraphs = html.select(\"p\")\n",
    "            intro = [i.text for i in paragraphs]\n",
    "            halo = ''.join(intro)\n",
    "            \n",
    "        respond(halo[:200])   #number of words\n",
    "        \n",
    "    if \"stop\" in data:\n",
    "        listening = False\n",
    "        print(\"Listening Stopped\")\n",
    "        respond(\"see you sagar\")\n",
    "    try:\n",
    "        return listening\n",
    "    except UnboundLocalError:\n",
    "        print(\"timedout\")\n",
    "        \n",
    "        \n",
    "        \n",
    "        \n",
    "respond(\"Hello sagar,what can i do for you?\")\n",
    "listening =  True\n",
    "while listening == True:\n",
    "    data = listen()\n",
    "    listening = voice_assistant(data)\n",
    "\n",
    "    \n",
    "    \n",
    "    "
   ]
  }
 ],
 "metadata": {
  "kernelspec": {
   "display_name": "Python 3",
   "language": "python",
   "name": "python3"
  },
  "language_info": {
   "codemirror_mode": {
    "name": "ipython",
    "version": 3
   },
   "file_extension": ".py",
   "mimetype": "text/x-python",
   "name": "python",
   "nbconvert_exporter": "python",
   "pygments_lexer": "ipython3",
   "version": "3.6.3"
  }
 },
 "nbformat": 4,
 "nbformat_minor": 2
}
